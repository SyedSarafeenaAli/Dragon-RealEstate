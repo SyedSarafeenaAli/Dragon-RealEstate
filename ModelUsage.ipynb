{
 "cells": [
  {
   "cell_type": "code",
   "execution_count": 1,
   "id": "002e6c8c-fbf5-48cf-9b41-e97855ff27e9",
   "metadata": {},
   "outputs": [],
   "source": [
    "from joblib import dump, load\n",
    "import numpy as np\n",
    "model = load('Dragon.joblib') "
   ]
  },
  {
   "cell_type": "code",
   "execution_count": 2,
   "id": "479aa657-95b6-4ad3-94a4-345ae6b06ed7",
   "metadata": {},
   "outputs": [
    {
     "data": {
      "text/plain": [
       "array([23.698])"
      ]
     },
     "execution_count": 2,
     "metadata": {},
     "output_type": "execute_result"
    }
   ],
   "source": [
    "features = np.array([[-5.43942006, 4.12628155, -1.6165014, -0.67288841, -1.42262747,\n",
    "       -11.44443979304, -49.31238772,  7.61111401, -26.0016879 , -0.5778192 ,\n",
    "       -0.97491834,  0.41164221, -66.86091034]])\n",
    "model.predict(features)"
   ]
  }
 ],
 "metadata": {
  "kernelspec": {
   "display_name": "Python 3 (ipykernel)",
   "language": "python",
   "name": "python3"
  },
  "language_info": {
   "codemirror_mode": {
    "name": "ipython",
    "version": 3
   },
   "file_extension": ".py",
   "mimetype": "text/x-python",
   "name": "python",
   "nbconvert_exporter": "python",
   "pygments_lexer": "ipython3",
   "version": "3.13.5"
  }
 },
 "nbformat": 4,
 "nbformat_minor": 5
}
